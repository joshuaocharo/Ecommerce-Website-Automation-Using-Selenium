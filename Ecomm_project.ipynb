{
 "cells": [
  {
   "cell_type": "code",
   "execution_count": 71,
   "id": "06f3c84c",
   "metadata": {},
   "outputs": [],
   "source": [
    "from selenium import webdriver\n",
    "from selenium.webdriver.common.by import By\n",
    "from selenium.webdriver.support.select import Select\n",
    "from selenium.webdriver import ActionChains\n",
    "import time\n",
    "import random"
   ]
  },
  {
   "cell_type": "markdown",
   "id": "7a2b8dc9",
   "metadata": {},
   "source": [
    "Initialize webdriver"
   ]
  },
  {
   "cell_type": "code",
   "execution_count": 75,
   "id": "de20af72",
   "metadata": {},
   "outputs": [
    {
     "name": "stderr",
     "output_type": "stream",
     "text": [
      "C:\\Users\\joshu\\AppData\\Local\\Temp/ipykernel_14792/2517148121.py:1: DeprecationWarning: executable_path has been deprecated, please pass in a Service object\n",
      "  driver = webdriver.Chrome('C:\\webdrivers\\chromedriver.exe')\n"
     ]
    }
   ],
   "source": [
    "driver = webdriver.Chrome('C:\\webdrivers\\chromedriver.exe')"
   ]
  },
  {
   "cell_type": "markdown",
   "id": "e3e16216",
   "metadata": {},
   "source": [
    "Open url and maximize window"
   ]
  },
  {
   "cell_type": "code",
   "execution_count": 76,
   "id": "28acefef",
   "metadata": {},
   "outputs": [],
   "source": [
    "driver.get('http://tutorialsninja.com/demo/')"
   ]
  },
  {
   "cell_type": "code",
   "execution_count": 73,
   "id": "0490421a",
   "metadata": {},
   "outputs": [],
   "source": [
    "driver.maximize_window()"
   ]
  },
  {
   "cell_type": "markdown",
   "id": "72eb8f1a",
   "metadata": {},
   "source": [
    "Phones button"
   ]
  },
  {
   "cell_type": "code",
   "execution_count": 74,
   "id": "aa34f639",
   "metadata": {},
   "outputs": [
    {
     "ename": "NoSuchElementException",
     "evalue": "Message: no such element: Unable to locate element: {\"method\":\"xpath\",\"selector\":\"//*[@id=\"menu\"]/div[2]/ul/li[6]/a\"}\n  (Session info: chrome=101.0.4951.67)\nStacktrace:\nBacktrace:\n\tOrdinal0 [0x0074B8F3+2406643]\n\tOrdinal0 [0x006DAF31+1945393]\n\tOrdinal0 [0x005CC748+837448]\n\tOrdinal0 [0x005F92E0+1020640]\n\tOrdinal0 [0x005F957B+1021307]\n\tOrdinal0 [0x00626372+1205106]\n\tOrdinal0 [0x006142C4+1131204]\n\tOrdinal0 [0x00624682+1197698]\n\tOrdinal0 [0x00614096+1130646]\n\tOrdinal0 [0x005EE636+976438]\n\tOrdinal0 [0x005EF546+980294]\n\tGetHandleVerifier [0x009B9612+2498066]\n\tGetHandleVerifier [0x009AC920+2445600]\n\tGetHandleVerifier [0x007E4F2A+579370]\n\tGetHandleVerifier [0x007E3D36+574774]\n\tOrdinal0 [0x006E1C0B+1973259]\n\tOrdinal0 [0x006E6688+1992328]\n\tOrdinal0 [0x006E6775+1992565]\n\tOrdinal0 [0x006EF8D1+2029777]\n\tBaseThreadInitThunk [0x77086739+25]\n\tRtlGetFullPathName_UEx [0x778C8E7F+1215]\n\tRtlGetFullPathName_UEx [0x778C8E4D+1165]\n",
     "output_type": "error",
     "traceback": [
      "\u001b[1;31m---------------------------------------------------------------------------\u001b[0m",
      "\u001b[1;31mNoSuchElementException\u001b[0m                    Traceback (most recent call last)",
      "\u001b[1;32m~\\AppData\\Local\\Temp/ipykernel_14792/495888461.py\u001b[0m in \u001b[0;36m<module>\u001b[1;34m\u001b[0m\n\u001b[1;32m----> 1\u001b[1;33m \u001b[0mphones\u001b[0m \u001b[1;33m=\u001b[0m \u001b[0mdriver\u001b[0m\u001b[1;33m.\u001b[0m\u001b[0mfind_element\u001b[0m\u001b[1;33m(\u001b[0m\u001b[0mby\u001b[0m\u001b[1;33m=\u001b[0m\u001b[0mBy\u001b[0m\u001b[1;33m.\u001b[0m\u001b[0mXPATH\u001b[0m\u001b[1;33m,\u001b[0m \u001b[0mvalue\u001b[0m\u001b[1;33m=\u001b[0m\u001b[1;34m'//*[@id=\"menu\"]/div[2]/ul/li[6]/a'\u001b[0m\u001b[1;33m)\u001b[0m\u001b[1;33m\u001b[0m\u001b[1;33m\u001b[0m\u001b[0m\n\u001b[0m\u001b[0;32m      2\u001b[0m \u001b[0mphones\u001b[0m\u001b[1;33m.\u001b[0m\u001b[0mclick\u001b[0m\u001b[1;33m(\u001b[0m\u001b[1;33m)\u001b[0m\u001b[1;33m\u001b[0m\u001b[1;33m\u001b[0m\u001b[0m\n",
      "\u001b[1;32mc:\\users\\joshu\\appdata\\local\\programs\\python\\python38\\lib\\site-packages\\selenium\\webdriver\\remote\\webdriver.py\u001b[0m in \u001b[0;36mfind_element\u001b[1;34m(self, by, value)\u001b[0m\n\u001b[0;32m   1249\u001b[0m             \u001b[0mvalue\u001b[0m \u001b[1;33m=\u001b[0m \u001b[1;34m'[name=\"%s\"]'\u001b[0m \u001b[1;33m%\u001b[0m \u001b[0mvalue\u001b[0m\u001b[1;33m\u001b[0m\u001b[1;33m\u001b[0m\u001b[0m\n\u001b[0;32m   1250\u001b[0m \u001b[1;33m\u001b[0m\u001b[0m\n\u001b[1;32m-> 1251\u001b[1;33m         return self.execute(Command.FIND_ELEMENT, {\n\u001b[0m\u001b[0;32m   1252\u001b[0m             \u001b[1;34m'using'\u001b[0m\u001b[1;33m:\u001b[0m \u001b[0mby\u001b[0m\u001b[1;33m,\u001b[0m\u001b[1;33m\u001b[0m\u001b[1;33m\u001b[0m\u001b[0m\n\u001b[0;32m   1253\u001b[0m             'value': value})['value']\n",
      "\u001b[1;32mc:\\users\\joshu\\appdata\\local\\programs\\python\\python38\\lib\\site-packages\\selenium\\webdriver\\remote\\webdriver.py\u001b[0m in \u001b[0;36mexecute\u001b[1;34m(self, driver_command, params)\u001b[0m\n\u001b[0;32m    428\u001b[0m         \u001b[0mresponse\u001b[0m \u001b[1;33m=\u001b[0m \u001b[0mself\u001b[0m\u001b[1;33m.\u001b[0m\u001b[0mcommand_executor\u001b[0m\u001b[1;33m.\u001b[0m\u001b[0mexecute\u001b[0m\u001b[1;33m(\u001b[0m\u001b[0mdriver_command\u001b[0m\u001b[1;33m,\u001b[0m \u001b[0mparams\u001b[0m\u001b[1;33m)\u001b[0m\u001b[1;33m\u001b[0m\u001b[1;33m\u001b[0m\u001b[0m\n\u001b[0;32m    429\u001b[0m         \u001b[1;32mif\u001b[0m \u001b[0mresponse\u001b[0m\u001b[1;33m:\u001b[0m\u001b[1;33m\u001b[0m\u001b[1;33m\u001b[0m\u001b[0m\n\u001b[1;32m--> 430\u001b[1;33m             \u001b[0mself\u001b[0m\u001b[1;33m.\u001b[0m\u001b[0merror_handler\u001b[0m\u001b[1;33m.\u001b[0m\u001b[0mcheck_response\u001b[0m\u001b[1;33m(\u001b[0m\u001b[0mresponse\u001b[0m\u001b[1;33m)\u001b[0m\u001b[1;33m\u001b[0m\u001b[1;33m\u001b[0m\u001b[0m\n\u001b[0m\u001b[0;32m    431\u001b[0m             response['value'] = self._unwrap_value(\n\u001b[0;32m    432\u001b[0m                 response.get('value', None))\n",
      "\u001b[1;32mc:\\users\\joshu\\appdata\\local\\programs\\python\\python38\\lib\\site-packages\\selenium\\webdriver\\remote\\errorhandler.py\u001b[0m in \u001b[0;36mcheck_response\u001b[1;34m(self, response)\u001b[0m\n\u001b[0;32m    245\u001b[0m                 \u001b[0malert_text\u001b[0m \u001b[1;33m=\u001b[0m \u001b[0mvalue\u001b[0m\u001b[1;33m[\u001b[0m\u001b[1;34m'alert'\u001b[0m\u001b[1;33m]\u001b[0m\u001b[1;33m.\u001b[0m\u001b[0mget\u001b[0m\u001b[1;33m(\u001b[0m\u001b[1;34m'text'\u001b[0m\u001b[1;33m)\u001b[0m\u001b[1;33m\u001b[0m\u001b[1;33m\u001b[0m\u001b[0m\n\u001b[0;32m    246\u001b[0m             \u001b[1;32mraise\u001b[0m \u001b[0mexception_class\u001b[0m\u001b[1;33m(\u001b[0m\u001b[0mmessage\u001b[0m\u001b[1;33m,\u001b[0m \u001b[0mscreen\u001b[0m\u001b[1;33m,\u001b[0m \u001b[0mstacktrace\u001b[0m\u001b[1;33m,\u001b[0m \u001b[0malert_text\u001b[0m\u001b[1;33m)\u001b[0m  \u001b[1;31m# type: ignore[call-arg]  # mypy is not smart enough here\u001b[0m\u001b[1;33m\u001b[0m\u001b[1;33m\u001b[0m\u001b[0m\n\u001b[1;32m--> 247\u001b[1;33m         \u001b[1;32mraise\u001b[0m \u001b[0mexception_class\u001b[0m\u001b[1;33m(\u001b[0m\u001b[0mmessage\u001b[0m\u001b[1;33m,\u001b[0m \u001b[0mscreen\u001b[0m\u001b[1;33m,\u001b[0m \u001b[0mstacktrace\u001b[0m\u001b[1;33m)\u001b[0m\u001b[1;33m\u001b[0m\u001b[1;33m\u001b[0m\u001b[0m\n\u001b[0m\u001b[0;32m    248\u001b[0m \u001b[1;33m\u001b[0m\u001b[0m\n\u001b[0;32m    249\u001b[0m     \u001b[1;32mdef\u001b[0m \u001b[0m_value_or_default\u001b[0m\u001b[1;33m(\u001b[0m\u001b[0mself\u001b[0m\u001b[1;33m,\u001b[0m \u001b[0mobj\u001b[0m\u001b[1;33m:\u001b[0m \u001b[0mMapping\u001b[0m\u001b[1;33m[\u001b[0m\u001b[0m_KT\u001b[0m\u001b[1;33m,\u001b[0m \u001b[0m_VT\u001b[0m\u001b[1;33m]\u001b[0m\u001b[1;33m,\u001b[0m \u001b[0mkey\u001b[0m\u001b[1;33m:\u001b[0m \u001b[0m_KT\u001b[0m\u001b[1;33m,\u001b[0m \u001b[0mdefault\u001b[0m\u001b[1;33m:\u001b[0m \u001b[0m_VT\u001b[0m\u001b[1;33m)\u001b[0m \u001b[1;33m->\u001b[0m \u001b[0m_VT\u001b[0m\u001b[1;33m:\u001b[0m\u001b[1;33m\u001b[0m\u001b[1;33m\u001b[0m\u001b[0m\n",
      "\u001b[1;31mNoSuchElementException\u001b[0m: Message: no such element: Unable to locate element: {\"method\":\"xpath\",\"selector\":\"//*[@id=\"menu\"]/div[2]/ul/li[6]/a\"}\n  (Session info: chrome=101.0.4951.67)\nStacktrace:\nBacktrace:\n\tOrdinal0 [0x0074B8F3+2406643]\n\tOrdinal0 [0x006DAF31+1945393]\n\tOrdinal0 [0x005CC748+837448]\n\tOrdinal0 [0x005F92E0+1020640]\n\tOrdinal0 [0x005F957B+1021307]\n\tOrdinal0 [0x00626372+1205106]\n\tOrdinal0 [0x006142C4+1131204]\n\tOrdinal0 [0x00624682+1197698]\n\tOrdinal0 [0x00614096+1130646]\n\tOrdinal0 [0x005EE636+976438]\n\tOrdinal0 [0x005EF546+980294]\n\tGetHandleVerifier [0x009B9612+2498066]\n\tGetHandleVerifier [0x009AC920+2445600]\n\tGetHandleVerifier [0x007E4F2A+579370]\n\tGetHandleVerifier [0x007E3D36+574774]\n\tOrdinal0 [0x006E1C0B+1973259]\n\tOrdinal0 [0x006E6688+1992328]\n\tOrdinal0 [0x006E6775+1992565]\n\tOrdinal0 [0x006EF8D1+2029777]\n\tBaseThreadInitThunk [0x77086739+25]\n\tRtlGetFullPathName_UEx [0x778C8E7F+1215]\n\tRtlGetFullPathName_UEx [0x778C8E4D+1165]\n"
     ]
    }
   ],
   "source": [
    "phones = driver.find_element(by=By.XPATH, value='//*[@id=\"menu\"]/div[2]/ul/li[6]/a')\n",
    "phones.click()"
   ]
  },
  {
   "cell_type": "markdown",
   "id": "ede0376a",
   "metadata": {},
   "source": [
    "Iphone"
   ]
  },
  {
   "cell_type": "code",
   "execution_count": 19,
   "id": "77ade5a9",
   "metadata": {},
   "outputs": [],
   "source": [
    "iphone= driver.find_element(by=By.XPATH, value=('//*[@id=\"content\"]/div[2]/div[2]/div/div[2]/div[1]/h4/a'))\n",
    "iphone.click()\n",
    "time.sleep(1)"
   ]
  },
  {
   "cell_type": "markdown",
   "id": "9df54aae",
   "metadata": {},
   "source": [
    "First Iphone Pic"
   ]
  },
  {
   "cell_type": "code",
   "execution_count": 22,
   "id": "7da3cce7",
   "metadata": {},
   "outputs": [],
   "source": [
    "first_pic=driver.find_element(by=By.XPATH, value=('//*[@id=\"content\"]/div[1]/div[1]/ul[1]/li[1]'))\n",
    "first_pic.click()\n",
    "time.sleep(1)"
   ]
  },
  {
   "cell_type": "markdown",
   "id": "0cc755c5",
   "metadata": {},
   "source": [
    "Next Picture"
   ]
  },
  {
   "cell_type": "code",
   "execution_count": 25,
   "id": "fd407695",
   "metadata": {},
   "outputs": [],
   "source": [
    "next_click=driver.find_element(by=By.XPATH, value=('/html/body/div[2]/div/button[2]'))\n",
    "for i in range(0,5):\n",
    "    next_click.click()\n",
    "    time.sleep(1)"
   ]
  },
  {
   "cell_type": "markdown",
   "id": "f3650a14",
   "metadata": {},
   "source": [
    "Save Screenshot"
   ]
  },
  {
   "cell_type": "code",
   "execution_count": 27,
   "id": "587e79dd",
   "metadata": {},
   "outputs": [
    {
     "data": {
      "text/plain": [
       "True"
      ]
     },
     "execution_count": 27,
     "metadata": {},
     "output_type": "execute_result"
    }
   ],
   "source": [
    "driver.save_screenshot('screenshot#' + str(random.randint(0,101)) + '.png')"
   ]
  },
  {
   "cell_type": "markdown",
   "id": "ae754f52",
   "metadata": {},
   "source": [
    "X Button"
   ]
  },
  {
   "cell_type": "code",
   "execution_count": 28,
   "id": "f25189dc",
   "metadata": {},
   "outputs": [],
   "source": [
    "x_button=driver.find_element(by=By.XPATH, value=('/html/body/div[2]/div/div[1]/div/button'))\n",
    "x_button.click()\n",
    "time.sleep(1)"
   ]
  },
  {
   "cell_type": "markdown",
   "id": "df00ce88",
   "metadata": {},
   "source": [
    "Input Quantity"
   ]
  },
  {
   "cell_type": "code",
   "execution_count": 30,
   "id": "f7687847",
   "metadata": {},
   "outputs": [],
   "source": [
    "quantity=driver.find_element(by=By.XPATH, value=('//*[@id=\"input-quantity\"]'))\n",
    "quantity.click()\n",
    "time.sleep(1)\n",
    "quantity.clear()\n",
    "time.sleep(1)\n",
    "quantity.send_keys('2')\n",
    "time.sleep(1)"
   ]
  },
  {
   "cell_type": "markdown",
   "id": "9774b73e",
   "metadata": {},
   "source": [
    "Add to Cart Button"
   ]
  },
  {
   "cell_type": "markdown",
   "id": "a727b610",
   "metadata": {},
   "source": [
    "Selecting Laptop"
   ]
  },
  {
   "cell_type": "code",
   "execution_count": 34,
   "id": "40ab4db9",
   "metadata": {},
   "outputs": [],
   "source": [
    "laptops=driver.find_element(by=By.XPATH, value=('//*[@id=\"menu\"]/div[2]/ul/li[2]/a'))\n",
    "\n",
    "action=ActionChains(driver)\n",
    "action.move_to_element(laptops).perform()\n",
    "\n",
    "laptops_2=driver.find_element(by=By.XPATH, value=('//*[@id=\"menu\"]/div[2]/ul/li[2]/div/a'))\n",
    "laptops_2.click()\n",
    "time.sleep(1)\n"
   ]
  },
  {
   "cell_type": "code",
   "execution_count": 35,
   "id": "d6be91b2",
   "metadata": {},
   "outputs": [],
   "source": [
    "hp=driver.find_element(by=By.XPATH, value=('//*[@id=\"content\"]/div[4]/div[1]/div/div[2]/div[1]/h4/a'))\n",
    "hp.click()\n",
    "time.sleep(1)"
   ]
  },
  {
   "cell_type": "markdown",
   "id": "83dd35aa",
   "metadata": {},
   "source": [
    "Scrolling"
   ]
  },
  {
   "cell_type": "code",
   "execution_count": 36,
   "id": "7f9c1901",
   "metadata": {},
   "outputs": [],
   "source": [
    "add_to_button_2=driver.find_element(by=By.XPATH, value=('//*[@id=\"button-cart\"]'))\n",
    "add_to_button_2.location_once_scrolled_into_view\n",
    "time.sleep(1)"
   ]
  },
  {
   "cell_type": "markdown",
   "id": "9d903271",
   "metadata": {},
   "source": [
    "Select Delivery Date"
   ]
  },
  {
   "cell_type": "code",
   "execution_count": 37,
   "id": "77230c4e",
   "metadata": {},
   "outputs": [],
   "source": [
    "calendar=driver.find_element(by=By.XPATH, value=('//*[@id=\"product\"]/div[1]/div/span/button/i'))\n",
    "calendar.click()\n",
    "time.sleep(1)"
   ]
  },
  {
   "cell_type": "markdown",
   "id": "7e19ee90",
   "metadata": {},
   "source": [
    "Month Year"
   ]
  },
  {
   "cell_type": "code",
   "execution_count": 38,
   "id": "3300eb74",
   "metadata": {},
   "outputs": [],
   "source": [
    "next_click_calendar=driver.find_element(by=By.XPATH, value=('/html/body/div[4]/div/div[1]/table/thead/tr[1]/th[3]'))\n",
    "month_year=driver.find_element(by=By.XPATH, value=('/html/body/div[4]/div/div[1]/table/thead/tr[1]/th[2]'))\n",
    "while month_year.text != 'December 2022':\n",
    "    next_click_calendar.click()"
   ]
  },
  {
   "cell_type": "markdown",
   "id": "7b240cfe",
   "metadata": {},
   "source": [
    "Date"
   ]
  },
  {
   "cell_type": "markdown",
   "id": "ec155545",
   "metadata": {},
   "source": [
    "Add to Cart (Laptop)"
   ]
  },
  {
   "cell_type": "code",
   "execution_count": 40,
   "id": "08ee7894",
   "metadata": {},
   "outputs": [],
   "source": [
    "calendar_date=driver.find_element(by=By.XPATH, value=('/html/body/div[4]/div/div[1]/table/tbody/tr[5]/td[6]'))\n",
    "calendar_date.click()\n",
    "time.sleep(1)"
   ]
  },
  {
   "cell_type": "code",
   "execution_count": 41,
   "id": "5d95b59f",
   "metadata": {},
   "outputs": [],
   "source": [
    "add_to_button_2.click()\n",
    "time.sleep(1)"
   ]
  },
  {
   "cell_type": "markdown",
   "id": "882af452",
   "metadata": {},
   "source": [
    "Cart Button"
   ]
  },
  {
   "cell_type": "code",
   "execution_count": 44,
   "id": "c0ba42a2",
   "metadata": {},
   "outputs": [],
   "source": [
    "go_to_cart= driver.find_element(by=By.XPATH, value = ('//*[@id=\"cart-total\"]'))\n",
    "go_to_cart.click()\n",
    "time.sleep(1)"
   ]
  },
  {
   "cell_type": "markdown",
   "id": "111d35ce",
   "metadata": {},
   "source": [
    "Checkout Button"
   ]
  },
  {
   "cell_type": "code",
   "execution_count": 48,
   "id": "d5be8215",
   "metadata": {},
   "outputs": [],
   "source": [
    "go_to_checkout= driver.find_element(by=By.XPATH, value = ('//*[@id=\"cart\"]/ul/li[2]/div/p/a[2]/strong'))\n",
    "go_to_checkout.click()\n",
    "time.sleep(1)"
   ]
  },
  {
   "cell_type": "markdown",
   "id": "e22ba3ac",
   "metadata": {},
   "source": [
    "Guest Radio Button"
   ]
  },
  {
   "cell_type": "code",
   "execution_count": 49,
   "id": "7494c01f",
   "metadata": {},
   "outputs": [],
   "source": [
    "guest= driver.find_element(by=By.XPATH, value = ('//*[@id=\"collapse-checkout-option\"]/div/div/div[1]/div[2]/label'))\n",
    "guest.click()\n",
    "time.sleep(1)"
   ]
  },
  {
   "cell_type": "markdown",
   "id": "928479aa",
   "metadata": {},
   "source": [
    "1st Continue Button"
   ]
  },
  {
   "cell_type": "code",
   "execution_count": 50,
   "id": "bd9686ff",
   "metadata": {},
   "outputs": [],
   "source": [
    "continue_1= driver.find_element(by=By.XPATH, value = ('//*[@id=\"button-account\"]'))\n",
    "continue_1.click()\n",
    "time.sleep(1)"
   ]
  },
  {
   "cell_type": "markdown",
   "id": "fde19391",
   "metadata": {},
   "source": [
    "Scrolling"
   ]
  },
  {
   "cell_type": "code",
   "execution_count": 51,
   "id": "9fcd1802",
   "metadata": {},
   "outputs": [],
   "source": [
    "scroll_2= driver.find_element(by=By.XPATH, value = ('//*[@id=\"accordion\"]/div[2]/div[1]/h4/a'))\n",
    "scroll_2.location_once_scrolled_into_view\n",
    "time.sleep(1)"
   ]
  },
  {
   "cell_type": "markdown",
   "id": "ee049af7",
   "metadata": {},
   "source": [
    "First Name"
   ]
  },
  {
   "cell_type": "code",
   "execution_count": 52,
   "id": "5ac14a0d",
   "metadata": {},
   "outputs": [],
   "source": [
    "first_name= driver.find_element(by=By.XPATH, value = ('//*[@id=\"input-payment-firstname\"]'))\n",
    "first_name.click()\n",
    "first_name.send_keys('Test')\n",
    "time.sleep(1)"
   ]
  },
  {
   "cell_type": "markdown",
   "id": "cf03b89e",
   "metadata": {},
   "source": [
    "Last Name"
   ]
  },
  {
   "cell_type": "code",
   "execution_count": 53,
   "id": "7a9d00d7",
   "metadata": {},
   "outputs": [],
   "source": [
    "last_name= driver.find_element(by=By.XPATH, value = ('//*[@id=\"input-payment-lastname\"]'))\n",
    "last_name.click()\n",
    "last_name.send_keys('That')\n",
    "time.sleep(1)"
   ]
  },
  {
   "cell_type": "markdown",
   "id": "2d14ef71",
   "metadata": {},
   "source": [
    "Email"
   ]
  },
  {
   "cell_type": "code",
   "execution_count": 54,
   "id": "d0cd61fa",
   "metadata": {},
   "outputs": [],
   "source": [
    "email= driver.find_element(by=By.XPATH, value = ('//*[@id=\"input-payment-email\"]'))\n",
    "email.click()\n",
    "email.send_keys('joshua.ocharo@gmail.com')\n",
    "time.sleep(1)"
   ]
  },
  {
   "cell_type": "markdown",
   "id": "22c1a32b",
   "metadata": {},
   "source": [
    "Telephone"
   ]
  },
  {
   "cell_type": "code",
   "execution_count": 55,
   "id": "ca417eb5",
   "metadata": {},
   "outputs": [],
   "source": [
    "telephone= driver.find_element(by=By.XPATH, value = ('//*[@id=\"input-payment-telephone\"]'))\n",
    "telephone.click()\n",
    "telephone.send_keys('0712452455')\n",
    "time.sleep(1)"
   ]
  },
  {
   "cell_type": "markdown",
   "id": "70081b6d",
   "metadata": {},
   "source": [
    "Address"
   ]
  },
  {
   "cell_type": "code",
   "execution_count": 56,
   "id": "ebd5249d",
   "metadata": {},
   "outputs": [],
   "source": [
    "address= driver.find_element(by=By.XPATH, value = ('//*[@id=\"input-payment-address-1\"]'))\n",
    "address.click()\n",
    "address.send_keys('nrb 07')\n",
    "time.sleep(1)"
   ]
  },
  {
   "cell_type": "markdown",
   "id": "03b295ff",
   "metadata": {},
   "source": [
    "City"
   ]
  },
  {
   "cell_type": "code",
   "execution_count": 57,
   "id": "25a06e92",
   "metadata": {},
   "outputs": [],
   "source": [
    "city= driver.find_element(by=By.XPATH, value = ('//*[@id=\"input-payment-city\"]'))\n",
    "city.click()\n",
    "city.send_keys('nrb')\n",
    "time.sleep(1)"
   ]
  },
  {
   "cell_type": "markdown",
   "id": "63e3261c",
   "metadata": {},
   "source": [
    "Post Code"
   ]
  },
  {
   "cell_type": "code",
   "execution_count": 58,
   "id": "6db78cd0",
   "metadata": {},
   "outputs": [],
   "source": [
    "postcode= driver.find_element(by=By.XPATH, value = ('//*[@id=\"input-payment-postcode\"]'))\n",
    "postcode.click()\n",
    "postcode.send_keys('112233')\n",
    "time.sleep(1)"
   ]
  },
  {
   "cell_type": "markdown",
   "id": "c9ce0273",
   "metadata": {},
   "source": [
    "Select Country"
   ]
  },
  {
   "cell_type": "code",
   "execution_count": 60,
   "id": "5a49063d",
   "metadata": {},
   "outputs": [],
   "source": [
    "country= driver.find_element(by=By.XPATH, value = ('//*[@id=\"input-payment-country\"]'))\n",
    "dropdown_country = Select(country)\n",
    "dropdown_country.select_by_index(110)\n",
    "time.sleep(1)"
   ]
  },
  {
   "cell_type": "markdown",
   "id": "b7349dff",
   "metadata": {},
   "source": [
    "Select Region"
   ]
  },
  {
   "cell_type": "code",
   "execution_count": 62,
   "id": "74377e49",
   "metadata": {},
   "outputs": [],
   "source": [
    "region= driver.find_element(by=By.XPATH, value = ('//*[@id=\"input-payment-zone\"]'))\n",
    "dropdown_region = Select(region)\n",
    "dropdown_region.select_by_visible_text('Cork')\n",
    "time.sleep(1)"
   ]
  },
  {
   "cell_type": "markdown",
   "id": "9899d928",
   "metadata": {},
   "source": [
    "Continue Button"
   ]
  },
  {
   "cell_type": "code",
   "execution_count": 63,
   "id": "feb5cb53",
   "metadata": {},
   "outputs": [],
   "source": [
    "continue_2= driver.find_element(by=By.XPATH, value = ('//*[@id=\"button-guest\"]'))\n",
    "continue_2.click()\n",
    "time.sleep(1)"
   ]
  },
  {
   "cell_type": "markdown",
   "id": "7dfef3f9",
   "metadata": {},
   "source": [
    "Continue Button"
   ]
  },
  {
   "cell_type": "code",
   "execution_count": 64,
   "id": "5d75ac6a",
   "metadata": {},
   "outputs": [],
   "source": [
    "continue_3= driver.find_element(by=By.XPATH, value = ('//*[@id=\"button-shipping-method\"]'))\n",
    "continue_3.click()\n",
    "time.sleep(1)"
   ]
  },
  {
   "cell_type": "markdown",
   "id": "bf0d9791",
   "metadata": {},
   "source": [
    "Agree Check box"
   ]
  },
  {
   "cell_type": "code",
   "execution_count": 65,
   "id": "59532cf2",
   "metadata": {},
   "outputs": [],
   "source": [
    "t_c= driver.find_element(by=By.XPATH, value = ('//*[@id=\"collapse-payment-method\"]/div/div[2]/div/input[1]'))\n",
    "t_c.click()\n",
    "time.sleep(1)"
   ]
  },
  {
   "cell_type": "markdown",
   "id": "aead9cf3",
   "metadata": {},
   "source": [
    "Continue Button"
   ]
  },
  {
   "cell_type": "code",
   "execution_count": 66,
   "id": "b0b7837a",
   "metadata": {},
   "outputs": [],
   "source": [
    "continue_4= driver.find_element(by=By.XPATH, value = ('//*[@id=\"button-payment-method\"]'))\n",
    "continue_4.click()\n",
    "time.sleep(1)"
   ]
  },
  {
   "cell_type": "markdown",
   "id": "cd253b99",
   "metadata": {},
   "source": [
    "Print"
   ]
  },
  {
   "cell_type": "code",
   "execution_count": 67,
   "id": "e560b2d9",
   "metadata": {},
   "outputs": [
    {
     "name": "stdout",
     "output_type": "stream",
     "text": [
      "The final price of product is $105.00\n"
     ]
    }
   ],
   "source": [
    "final_price= driver.find_element(by=By.XPATH, value = ('//*[@id=\"collapse-checkout-confirm\"]/div/div[1]/table/tfoot/tr[3]/td[2]'))\n",
    "print(\"The final price of product is \" + final_price.text)"
   ]
  },
  {
   "cell_type": "markdown",
   "id": "c8140ac0",
   "metadata": {},
   "source": [
    "Confirm Order"
   ]
  },
  {
   "cell_type": "code",
   "execution_count": 68,
   "id": "32b59cd2",
   "metadata": {},
   "outputs": [],
   "source": [
    "confirm_order= driver.find_element(by=By.XPATH, value = ('//*[@id=\"button-confirm\"]'))\n",
    "confirm_order.click()\n",
    "time.sleep(1)"
   ]
  },
  {
   "cell_type": "markdown",
   "id": "aac662df",
   "metadata": {},
   "source": [
    "Close Driver"
   ]
  },
  {
   "cell_type": "code",
   "execution_count": 69,
   "id": "d0a4e047",
   "metadata": {},
   "outputs": [
    {
     "data": {
      "text/plain": [
       "<bound method WebDriver.close of <selenium.webdriver.chrome.webdriver.WebDriver (session=\"27f2a89c9f64ab2233f7fd2eb15541c5\")>>"
      ]
     },
     "execution_count": 69,
     "metadata": {},
     "output_type": "execute_result"
    }
   ],
   "source": [
    "driver.close"
   ]
  },
  {
   "cell_type": "code",
   "execution_count": null,
   "id": "aa95499f",
   "metadata": {},
   "outputs": [],
   "source": []
  }
 ],
 "metadata": {
  "kernelspec": {
   "display_name": "Python 3 (ipykernel)",
   "language": "python",
   "name": "python3"
  },
  "language_info": {
   "codemirror_mode": {
    "name": "ipython",
    "version": 3
   },
   "file_extension": ".py",
   "mimetype": "text/x-python",
   "name": "python",
   "nbconvert_exporter": "python",
   "pygments_lexer": "ipython3",
   "version": "3.8.0"
  }
 },
 "nbformat": 4,
 "nbformat_minor": 5
}
